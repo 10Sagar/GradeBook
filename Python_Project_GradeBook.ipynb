{
  "nbformat": 4,
  "nbformat_minor": 0,
  "metadata": {
    "colab": {
      "name": "Python Project GradeBook.ipynb",
      "provenance": []
    },
    "kernelspec": {
      "name": "python3",
      "display_name": "Python 3"
    },
    "language_info": {
      "name": "python"
    }
  },
  "cells": [
    {
      "cell_type": "code",
      "execution_count": null,
      "metadata": {
        "id": "3FcS_yzmTlGj"
      },
      "outputs": [],
      "source": [
        "from pathlib import Path\n",
        "import pandas as pd\n",
        "\n",
        "current_dirr = Path.cwd()\n",
        "data_dirr = current_dirr / \"data\"\n",
        "\n",
        "roster = pd.read_csv(\n",
        "    data_dirr / \"roster.csv\",\n",
        "    converters={\"NetID\": str.lower, \"Email Address\": str.lower},\n",
        "    usecols=[\"Section\", \"Email Address\", \"NetID\"],\n",
        "    index_col=\"NetID\",\n",
        ")\n",
        "\n",
        "hw_exam_grades = pd.read_csv(\n",
        "    data_dirr/ \"hw_exam_grades.csv\",\n",
        "    converters={\"SID\": str.lower},\n",
        "    usecols=lambda x: \"Submission\" not in x,\n",
        "    index_col=\"SID\",\n",
        ")\n",
        "\n",
        "quiz_grades = pd.DataFrame()\n",
        "for file_path in data_dirr.glob(\"quiz_*_grades.csv\"):\n",
        "    quiz_name = \" \".join(file_path.stem.title().split(\"_\")[:2])\n",
        "    quiz = pd.read_csv(\n",
        "        file_path,\n",
        "        converters={\"Email\": str.lower},\n",
        "        index_col=[\"Email\"],\n",
        "        usecols=[\"Email\", \"Grade\"],\n",
        "    ).rename(columns={\"Grade\": quiz_name})\n",
        "    quiz_grades = pd.concat([quiz_grades, quiz], axis=1)\n"
      ]
    },
    {
      "cell_type": "code",
      "source": [
        "final_data = pd.merge(\n",
        "    roster,\n",
        "    hw_exam_grades,\n",
        "    left_index=True,\n",
        "    right_index=True,\n",
        ")\n",
        "final_data = pd.merge(\n",
        "    final_data, quiz_grades, left_on=\"Email Address\", right_index=True\n",
        ")\n",
        "final_data = final_data.fillna(0)\n"
      ],
      "metadata": {
        "id": "qSXC5OZnVcwr"
      },
      "execution_count": null,
      "outputs": []
    },
    {
      "cell_type": "code",
      "source": [
        "import numpy as np"
      ],
      "metadata": {
        "id": "TApumR1kVt8D"
      },
      "execution_count": null,
      "outputs": []
    },
    {
      "cell_type": "code",
      "source": [
        "n_exams = 3\n",
        "for n in range(1, n_exams + 1):\n",
        "    final_data[f\"Exam {n} Score\"] = (\n",
        "        final_data[f\"Exam {n}\"] / final_data[f\"Exam {n} - Max Points\"]\n",
        "    )\n",
        "\n",
        "homework_scores = final_data.filter(regex=r\"^Homework \\d\\d?$\", axis=1)\n",
        "homework_max_points = final_data.filter(regex=r\"^Homework \\d\\d? -\", axis=1)\n",
        "\n",
        "sum_of_hw_scores = homework_scores.sum(axis=1)\n",
        "sum_of_hw_max = homework_max_points.sum(axis=1)\n",
        "final_data[\"Total Homework\"] = sum_of_hw_scores / sum_of_hw_max\n",
        "\n",
        "hw_max_renamed = homework_max_points.set_axis(homework_scores.columns, axis=1)\n",
        "average_hw_scores = (homework_scores / hw_max_renamed).sum(axis=1)\n",
        "final_data[\"Average Homework\"] = average_hw_scores / homework_scores.shape[1]\n",
        "\n",
        "final_data[\"Homework Score\"] = final_data[\n",
        "    [\"Total Homework\", \"Average Homework\"]\n",
        "].max(axis=1)\n",
        "\n",
        "quiz_scores = final_data.filter(regex=r\"^Quiz \\d$\", axis=1)\n",
        "quiz_max_points = pd.Series(\n",
        "    {\"Quiz 1\": 11, \"Quiz 2\": 15, \"Quiz 3\": 17, \"Quiz 4\": 14, \"Quiz 5\": 12}\n",
        ")\n",
        "\n",
        "sum_of_quiz_scores = quiz_scores.sum(axis=1)\n",
        "sum_of_quiz_max = quiz_max_points.sum()\n",
        "final_data[\"Total Quizzes\"] = sum_of_quiz_scores / sum_of_quiz_max\n",
        "\n",
        "average_quiz_scores = (quiz_scores / quiz_max_points).sum(axis=1)\n",
        "final_data[\"Average Quizzes\"] = average_quiz_scores / quiz_scores.shape[1]\n",
        "\n",
        "final_data[\"Quiz Score\"] = final_data[\n",
        "    [\"Total Quizzes\", \"Average Quizzes\"]\n",
        "].max(axis=1)\n",
        "\n",
        "weightings = pd.Series(\n",
        "    {\n",
        "        \"Exam 1 Score\": 0.05,\n",
        "        \"Exam 2 Score\": 0.1,\n",
        "        \"Exam 3 Score\": 0.15,\n",
        "        \"Quiz Score\": 0.30,\n",
        "        \"Homework Score\": 0.4,\n",
        "    }\n",
        ")\n",
        "\n",
        "final_data[\"Final Score\"] = (final_data[weightings.index] * weightings).sum(\n",
        "    axis=1\n",
        ")\n",
        "final_data[\"Ceiling Score\"] = np.ceil(final_data[\"Final Score\"] * 100)\n",
        "\n",
        "grades = {\n",
        "    90: \"A\",\n",
        "    80: \"B\",\n",
        "    70: \"C\",\n",
        "    60: \"D\",\n",
        "    0: \"F\",\n",
        "}\n",
        "\n",
        "\n",
        "def grade_mapping(value):\n",
        "    \"\"\"Map numerical grade to letter grade.\"\"\"\n",
        "    for key, letter in grades.items():\n",
        "        if value >= key:\n",
        "            return letter\n",
        "\n",
        "\n",
        "letter_grades = final_data[\"Ceiling Score\"].map(grade_mapping)\n",
        "final_data[\"Final Grade\"] = pd.Categorical(\n",
        "    letter_grades, categories=grades.values(), ordered=True\n",
        ")\n"
      ],
      "metadata": {
        "id": "S12VB1xvVjnU"
      },
      "execution_count": null,
      "outputs": []
    },
    {
      "cell_type": "code",
      "source": [
        "for section, table in final_data.groupby(\"Section\"):\n",
        "    section_file = data_dirr / f\"Section {section} Grades.csv\"\n",
        "    num_students = table.shape[0]\n",
        "    print(\n",
        "        f\"In Section {section} there are {num_students} students saved to \"\n",
        "        f\"file {section_file}.\"\n",
        "    )\n",
        "    table.sort_values(by=[\"Last Name\", \"First Name\"]).to_csv(section_file)\n"
      ],
      "metadata": {
        "colab": {
          "base_uri": "https://localhost:8080/"
        },
        "id": "c-ETWa7VVxpk",
        "outputId": "8255715c-768d-4d1d-abff-ed83c09b7111"
      },
      "execution_count": null,
      "outputs": [
        {
          "output_type": "stream",
          "name": "stdout",
          "text": [
            "In Section 1 there are 56 students saved to file /content/data/Section 1 Grades.csv.\n",
            "In Section 2 there are 51 students saved to file /content/data/Section 2 Grades.csv.\n",
            "In Section 3 there are 43 students saved to file /content/data/Section 3 Grades.csv.\n"
          ]
        }
      ]
    },
    {
      "cell_type": "code",
      "source": [
        "import matplotlib.pyplot as plt\n",
        "import scipy"
      ],
      "metadata": {
        "id": "hS4-4mLpWHxQ"
      },
      "execution_count": null,
      "outputs": []
    },
    {
      "cell_type": "code",
      "source": [
        "grade_counts = final_data[\"Final Grade\"].value_counts().sort_index()\n",
        "grade_counts.plot.bar()\n",
        "plt.show()\n",
        "\n",
        "final_data[\"Final Score\"].plot.hist(bins=20, label=\"Histogram\")\n",
        "final_data[\"Final Score\"].plot.density(\n",
        "    linewidth=4, label=\"Kernel Density Estimate\"\n",
        ")\n",
        "\n",
        "final_mean = final_data[\"Final Score\"].mean()\n",
        "final_std = final_data[\"Final Score\"].std()\n",
        "x = np.linspace(final_mean - 5 * final_std, final_mean + 5 * final_std, 200)\n",
        "normal_dist = scipy.stats.norm.pdf(x, loc=final_mean, scale=final_std)\n",
        "plt.plot(x, normal_dist, label=\"Normal Distribution\", linewidth=4)\n",
        "plt.legend()\n",
        "plt.show()\n"
      ],
      "metadata": {
        "colab": {
          "base_uri": "https://localhost:8080/",
          "height": 511
        },
        "id": "Z4DHd-AiV9Gu",
        "outputId": "eca9c9da-b260-4604-ed7d-2c6d52e9d8f5"
      },
      "execution_count": null,
      "outputs": [
        {
          "output_type": "display_data",
          "data": {
            "text/plain": [
              "<Figure size 432x288 with 1 Axes>"
            ],
            "image/png": "[encoded data removed]"
          },
          "metadata": {
            "needs_background": "light"
          }
        },
        {
          "output_type": "display_data",
          "data": {
            "text/plain": [
              "<Figure size 432x288 with 1 Axes>"
            ],
            "image/png": "[encoded data removed]"
          },
          "metadata": {
            "needs_background": "light"
          }
        }
      ]
    }
  ]
}